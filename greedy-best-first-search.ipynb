{
 "cells": [
  {
   "cell_type": "markdown",
   "metadata": {},
   "source": [
    "Mengambil actual cost dan heuristic cost dari file sesuai dengan ketentuan pada soal."
   ]
  },
  {
   "cell_type": "code",
   "execution_count": 16,
   "metadata": {},
   "outputs": [],
   "source": [
    "actual_costs = {}\n",
    "with open('resources/actual_costs.txt', 'r') as file:\n",
    "    for line in file:\n",
    "        line = line.split('|')\n",
    "        [src, dst, cost] = line\n",
    "        cost = int(cost)\n",
    "\n",
    "        actual_costs.setdefault(src, {})\n",
    "        actual_costs.setdefault(dst, {})\n",
    "\n",
    "        actual_costs[src][dst] = cost\n",
    "        actual_costs[dst][src] = cost"
   ]
  },
  {
   "cell_type": "code",
   "execution_count": 19,
   "metadata": {},
   "outputs": [],
   "source": [
    "heuristic_costs = {}\n",
    "with open('resources/heuristic_costs.txt', 'r') as file:\n",
    "    for line in file:\n",
    "        line = line.split('|')\n",
    "        [src, dst, cost] = line\n",
    "        cost = int(cost)\n",
    "\n",
    "        heuristic_costs.setdefault(src, {})\n",
    "        heuristic_costs.setdefault(dst, {})\n",
    "        \n",
    "        heuristic_costs[src][dst] = cost\n",
    "        heuristic_costs[dst][src] = cost"
   ]
  }
 ],
 "metadata": {
  "kernelspec": {
   "display_name": "Python 3.11.0 64-bit",
   "language": "python",
   "name": "python3"
  },
  "language_info": {
   "codemirror_mode": {
    "name": "ipython",
    "version": 3
   },
   "file_extension": ".py",
   "mimetype": "text/x-python",
   "name": "python",
   "nbconvert_exporter": "python",
   "pygments_lexer": "ipython3",
   "version": "3.11.0"
  },
  "orig_nbformat": 4,
  "vscode": {
   "interpreter": {
    "hash": "c261aea317cc0286b3b3261fbba9abdec21eaa57589985bb7a274bf54d6cc0a7"
   }
  }
 },
 "nbformat": 4,
 "nbformat_minor": 2
}
