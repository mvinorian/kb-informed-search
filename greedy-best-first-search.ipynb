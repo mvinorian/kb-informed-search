{
 "cells": [
  {
   "cell_type": "markdown",
   "metadata": {},
   "source": [
    "<div align='center'>\n",
    "\n",
    "# Algoritma Greedy Best-First Search\n",
    "\n",
    "| Nama                    | NRP        |\n",
    "|:-----------------------:|:----------:|\n",
    "| Muhammad Ersya Vinorian | 5025211045 |\n",
    "| M. Dafian Zaki Akhdan   | 5025211108 |\n",
    "| Frederick Hidayat       | 5025211152 |\n",
    "\n",
    "</div>\n",
    "\n",
    "<br/>\n",
    "<hr/>\n",
    "<br/>\n",
    "\n",
    "<div align='justify'>\n",
    "\n",
    "Algoritma Greedy Best-First Search merupakan salah satu algoritma informed search yang melakukan pencarian jalur terpendek dengan menggunakan  fungsi heuristik untuk menentukan node mana yang akan dikunjungi terlebih dahulu. Berikut adalah langkah-langkah pencarian rute dari Madiun ke Surabaya dengan menggunakan algoritma Greedy Best-First Search.\n",
    "\n",
    "</div>"
   ]
  },
  {
   "cell_type": "markdown",
   "metadata": {},
   "source": [
    "* Mengambil actual cost dan heuristic cost dari file sesuai dengan ketentuan pada soal."
   ]
  },
  {
   "cell_type": "code",
   "execution_count": 173,
   "metadata": {},
   "outputs": [],
   "source": [
    "actual_costs = {}\n",
    "with open('resources/actual_costs.txt', 'r') as file:\n",
    "    for line in file:\n",
    "        line = line.split('|')\n",
    "        [src, dst, cost] = line\n",
    "        cost = int(cost)\n",
    "\n",
    "        actual_costs.setdefault(src, {})\n",
    "        actual_costs.setdefault(dst, {})\n",
    "\n",
    "        actual_costs[src][dst] = cost\n",
    "        actual_costs[dst][src] = cost"
   ]
  },
  {
   "cell_type": "code",
   "execution_count": 174,
   "metadata": {},
   "outputs": [],
   "source": [
    "heuristic_costs = {}\n",
    "with open('resources/heuristic_costs.txt', 'r') as file:\n",
    "    for line in file:\n",
    "        line = line.split('|')\n",
    "        [city, cost] = line\n",
    "        cost = int(cost)\n",
    "        \n",
    "        heuristic_costs[city] = cost"
   ]
  },
  {
   "cell_type": "markdown",
   "metadata": {},
   "source": [
    "* Menentukan kota asal dan kota tujuan."
   ]
  },
  {
   "cell_type": "code",
   "execution_count": 175,
   "metadata": {},
   "outputs": [],
   "source": [
    "START = 'Magetan'\n",
    "GOAL = 'Surabaya'"
   ]
  },
  {
   "cell_type": "markdown",
   "metadata": {},
   "source": [
    "* Membuat open list untuk kota yang dapat dikunjungi menggunakan priority queue agar dapat dicari mana yang nilai heuristiknya paling kecil."
   ]
  },
  {
   "cell_type": "code",
   "execution_count": 176,
   "metadata": {},
   "outputs": [],
   "source": [
    "from queue import heappush, heappop\n",
    "\n",
    "open_city = []\n",
    "heappush(open_city, (heuristic_costs[START], 0, START))"
   ]
  },
  {
   "cell_type": "markdown",
   "metadata": {},
   "source": [
    "* Menambahkan penanda kota yang telah dikunjungi dan juga total jarak yang telah ditempuh beserta rutenya."
   ]
  },
  {
   "cell_type": "code",
   "execution_count": 177,
   "metadata": {},
   "outputs": [],
   "source": [
    "visited = {}\n",
    "visited[START] = True\n",
    "\n",
    "path = []\n",
    "total_cost = 0"
   ]
  },
  {
   "cell_type": "markdown",
   "metadata": {},
   "source": [
    "* Selama belum mencapai kota tujuan, akan dilakukan pengunjungan ke kota dengan nilai heuristik paling kecil."
   ]
  },
  {
   "cell_type": "code",
   "execution_count": 178,
   "metadata": {},
   "outputs": [],
   "source": [
    "while len(open_city) > 0:\n",
    "    [_, current_cost, current_city] = heappop(open_city)\n",
    "    total_cost += current_cost\n",
    "    path.append(current_city)\n",
    "    \n",
    "    if current_city == GOAL:\n",
    "        break\n",
    "\n",
    "    for next_city, cost in actual_costs[current_city].items():\n",
    "        visited.setdefault(next_city, False)\n",
    "        \n",
    "        if visited[next_city] == False:\n",
    "            visited[next_city] = True\n",
    "            heappush(open_city, (heuristic_costs[next_city], cost, next_city))"
   ]
  },
  {
   "cell_type": "markdown",
   "metadata": {},
   "source": [
    "* Menampilkan hasil dari pencarian rute dari Magetan ke Surabaya dan juga total jarak yang ditempuh"
   ]
  },
  {
   "cell_type": "code",
   "execution_count": 179,
   "metadata": {},
   "outputs": [
    {
     "name": "stdout",
     "output_type": "stream",
     "text": [
      "Rute Magetan ke Surabaya: Magetan -> Madiun -> Nganjuk -> Jombang -> Surabaya\n",
      "Total jarak yang ditempuh adalah sebesar 182\n"
     ]
    }
   ],
   "source": [
    "print(f'Rute Magetan ke Surabaya: {\" -> \".join(path)}')\n",
    "print(f'Total jarak yang ditempuh adalah sebesar {total_cost}')"
   ]
  }
 ],
 "metadata": {
  "kernelspec": {
   "display_name": "Python 3.11.0 64-bit",
   "language": "python",
   "name": "python3"
  },
  "language_info": {
   "codemirror_mode": {
    "name": "ipython",
    "version": 3
   },
   "file_extension": ".py",
   "mimetype": "text/x-python",
   "name": "python",
   "nbconvert_exporter": "python",
   "pygments_lexer": "ipython3",
   "version": "3.11.0"
  },
  "orig_nbformat": 4,
  "vscode": {
   "interpreter": {
    "hash": "c261aea317cc0286b3b3261fbba9abdec21eaa57589985bb7a274bf54d6cc0a7"
   }
  }
 },
 "nbformat": 4,
 "nbformat_minor": 2
}
