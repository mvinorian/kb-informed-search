{
  "cells": [
    {
      "cell_type": "markdown",
      "metadata": {
        "id": "rcat5T9Kj9mA"
      },
      "source": [
        "<div align='center'>\n",
        "\n",
        "# Algoritma A Star Search\n",
        "\n",
        "| Nama                    | NRP        |\n",
        "|:-----------------------:|:----------:|\n",
        "| Muhammad Ersya Vinorian | 5025211045 |\n",
        "| M. Dafian Zaki Akhdan   | 5025211108 |\n",
        "| Frederick Hidayat       | 5025211152 |\n",
        "\n",
        "</div>\n",
        "\n",
        "<br/>\n",
        "<hr/>\n",
        "<br/>\n",
        "\n",
        "<div align='justify'>\n",
        "\n",
        "Algoritma A* (A Star) adalah algoritma pencarian yang digunakan untuk menemukan jalur terpendek antara titik awal dan akhir. Algoritma ini sering digunakan untuk penjelajahan peta guna menemukan jalur terpendek yang akan diambil.\n",
        "\n",
        "A* menggunakan Best First Search (BFS) dan menemukan jalur dengan biaya terkecil dari node awal yang diberikan ke node tujuan. Algoritma ini menggunakan fungsi heuristik jarak ditambah biaya `f(x)` untuk menentukan urutan di mana search-nya melalui node-node yang ada pada tree.\n",
        "\n",
        "</div>"
      ]
    },
    {
      "cell_type": "markdown",
      "metadata": {
        "id": "d55aibQfloP5"
      },
      "source": [
        "* Import library"
      ]
    },
    {
      "cell_type": "code",
      "execution_count": 1,
      "metadata": {
        "id": "vsSgV4bwvcoo"
      },
      "outputs": [],
      "source": [
        "import heapq"
      ]
    },
    {
      "cell_type": "markdown",
      "metadata": {
        "id": "7QPfPsNxltb2"
      },
      "source": [
        "* Definisi class struktur data yaitu priority queue."
      ]
    },
    {
      "cell_type": "code",
      "execution_count": 2,
      "metadata": {
        "id": "0et6-d7KvfCN"
      },
      "outputs": [],
      "source": [
        "class PriorityQueue:\n",
        "  def __init__(self):\n",
        "    self.kota = []\n",
        "\n",
        "  def push(self, city, cost):\n",
        "    heapq.heappush(self.kota, (cost, city))\n",
        "\n",
        "  def pop(self):\n",
        "    return heapq.heappop(self.kota)[1]\n",
        "\n",
        "  def isEmpty(self):\n",
        "    if (self.kota == []):\n",
        "      return True\n",
        "    else:\n",
        "      return False"
      ]
    },
    {
      "cell_type": "markdown",
      "metadata": {
        "id": "Y-xyh0Hpl4uP"
      },
      "source": [
        "* Definisi node"
      ]
    },
    {
      "cell_type": "code",
      "execution_count": 3,
      "metadata": {
        "id": "EH3tgAdVvflM"
      },
      "outputs": [],
      "source": [
        "class Node:\n",
        "  def __init__(self, city, distance):\n",
        "    self.city = str(city)\n",
        "    self.distance = str(distance)"
      ]
    },
    {
      "cell_type": "markdown",
      "metadata": {
        "id": "e_-TS-oHl7q9"
      },
      "source": [
        "* Mengambil actual cost dari file sesuai dengan ketentuan pada soal."
      ]
    },
    {
      "cell_type": "code",
      "execution_count": 5,
      "metadata": {
        "id": "m0GpJ-4bM2OL"
      },
      "outputs": [],
      "source": [
        "actual_costs = {}\n",
        "with open('resources/actual_costs.txt', 'r') as file:\n",
        "  for line in file:\n",
        "    line = line.split('|')\n",
        "    ct1 = line[0]\n",
        "    ct2 = line[1]\n",
        "    dist = int(line[2])\n",
        "    actual_costs.setdefault(ct1, []).append(Node(ct2, dist))\n",
        "    actual_costs.setdefault(ct2, []).append(Node(ct1, dist))"
      ]
    },
    {
      "cell_type": "markdown",
      "metadata": {
        "id": "6DNMvgHEl-Cl"
      },
      "source": [
        "* Mengambil heuristic cost dari file sesuai dengan ketentuan pada soal."
      ]
    },
    {
      "cell_type": "code",
      "execution_count": 6,
      "metadata": {
        "id": "4yBfYrrEcNJR"
      },
      "outputs": [],
      "source": [
        "heuristic_costs = {}\n",
        "with open('resources/heuristic_costs.txt', 'r') as file:\n",
        " for line in file:\n",
        "        line = line.split('|')\n",
        "        [city, cost] = line\n",
        "        cost = int(cost)\n",
        "        \n",
        "        heuristic_costs[city] = cost"
      ]
    },
    {
      "cell_type": "markdown",
      "metadata": {
        "id": "onwsgLYwl_0K"
      },
      "source": [
        "* Menentukan kota asal dan kota tujuan.\n"
      ]
    },
    {
      "cell_type": "code",
      "execution_count": 7,
      "metadata": {
        "id": "P35cXGOSjNdy"
      },
      "outputs": [],
      "source": [
        "START = 'Magetan'\n",
        "GOAL = 'Surabaya'"
      ]
    },
    {
      "cell_type": "markdown",
      "metadata": {
        "id": "D_NibikEmCR9"
      },
      "source": [
        "* Membuat open list untuk kota yang dapat dikunjungi menggunakan priority queue agar dapat dicari mana yang nilai heuristiknya paling kecil. Selain itu deklarasi awal pqueue menggunakan kota asal dan distance 0.\n"
      ]
    },
    {
      "cell_type": "code",
      "execution_count": 8,
      "metadata": {
        "id": "P2P0siE7mLuD"
      },
      "outputs": [],
      "source": [
        "path = {}\n",
        "distance = {}\n",
        "pQueue = PriorityQueue()\n",
        "\n",
        "pQueue.push(START, 0)\n",
        "distance[START] = 0\n",
        "path[START] = None"
      ]
    },
    {
      "cell_type": "markdown",
      "metadata": {
        "id": "X9iXMKWZmgx1"
      },
      "source": [
        "* Selama belum mencapai kota tujuan, akan dilakukan pengunjungan ke kota dengan nilai heuristik + nilai aktual paling kecil."
      ]
    },
    {
      "cell_type": "code",
      "execution_count": 12,
      "metadata": {
        "id": "rRmYgeMOwcdt"
      },
      "outputs": [],
      "source": [
        "while (pQueue.isEmpty() == False):\n",
        "  current = pQueue.pop()\n",
        "\n",
        "  if (current == GOAL):\n",
        "      break\n",
        "\n",
        "  for new in actual_costs[current]:\n",
        "    cityCost = distance[current] + int(new.distance)\n",
        "\n",
        "    if (new.city not in distance or cityCost < distance[new.city]):\n",
        "        distance[new.city] = cityCost\n",
        "        f_cost = cityCost + heuristic_costs[new.city]\n",
        "        pQueue.push(new.city, f_cost)\n",
        "        path[new.city] = current"
      ]
    },
    {
      "cell_type": "markdown",
      "metadata": {
        "id": "A6nhiyxfmpSF"
      },
      "source": [
        "* Deklarasi output."
      ]
    },
    {
      "cell_type": "code",
      "execution_count": 13,
      "metadata": {
        "id": "Q-BzzIoYmfQN"
      },
      "outputs": [],
      "source": [
        "pathfinal = []\n",
        "count = GOAL\n",
        "\n",
        "while (path.get(count) != None):\n",
        "  pathfinal.append(count)\n",
        "  count = path[count]\n",
        "  \n",
        "pathfinal.append(START)\n",
        "pathfinal.reverse()"
      ]
    },
    {
      "cell_type": "markdown",
      "metadata": {
        "id": "Ilu_2_bQmwUN"
      },
      "source": [
        "* Menampilkan hasil dari pencarian rute dari Magetan ke Surabaya dan juga total jarak yang ditempuh"
      ]
    },
    {
      "cell_type": "code",
      "execution_count": 14,
      "metadata": {
        "colab": {
          "base_uri": "https://localhost:8080/"
        },
        "id": "dGTgcV6srbMG",
        "outputId": "e1e6af6d-a755-45a5-fc12-dcad53fdd5b9"
      },
      "outputs": [
        {
          "name": "stdout",
          "output_type": "stream",
          "text": [
            "Rute Magetan ke Surabaya: Magetan -> Ngawi -> Bojonegoro -> Lamongan -> Gresik -> Surabaya\n",
            "Total jarak yang ditempuh adalah sebesar 144\n"
          ]
        }
      ],
      "source": [
        "print(f'Rute Magetan ke Surabaya: {\" -> \".join(pathfinal)}')\n",
        "print(f'Total jarak yang ditempuh adalah sebesar {distance[GOAL]}')"
      ]
    }
  ],
  "metadata": {
    "colab": {
      "provenance": []
    },
    "kernelspec": {
      "display_name": "Python 3.10.0 64-bit",
      "language": "python",
      "name": "python3"
    },
    "language_info": {
      "codemirror_mode": {
        "name": "ipython",
        "version": 3
      },
      "file_extension": ".py",
      "mimetype": "text/x-python",
      "name": "python",
      "nbconvert_exporter": "python",
      "pygments_lexer": "ipython3",
      "version": "3.10.0"
    },
    "vscode": {
      "interpreter": {
        "hash": "369f2c481f4da34e4445cda3fffd2e751bd1c4d706f27375911949ba6bb62e1c"
      }
    }
  },
  "nbformat": 4,
  "nbformat_minor": 0
}
